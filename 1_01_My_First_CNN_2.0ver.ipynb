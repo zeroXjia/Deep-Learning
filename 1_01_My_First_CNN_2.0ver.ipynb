{
 "cells": [
  {
   "cell_type": "markdown",
   "metadata": {
    "id": "x8TZ1FxLB4xJ"
   },
   "source": [
    "# My First CNN on MNIST\n",
    "---\n",
    "## 일단 Quick 하게\n",
    "\n",
    "코드는 정말 수루룩 끝난다!\n",
    "\n",
    "그래서 다시 한 번! 아래 그림을 보고 구조를 확실히 추적할 수 있어야 한다.\n",
    "\n",
    "* [Ex1](https://cdn-images-1.medium.com/max/1600/1*O9ulXVmjBustHGLi1zRthA.png)\n",
    "* [Ex2](https://cdn-images-1.medium.com/max/1600/1*jqKHgwZ8alM3K_JRYO_l4w.png)\n",
    "\n"
   ]
  },
  {
   "cell_type": "markdown",
   "metadata": {
    "id": "CcKmYCVBFNSN"
   },
   "source": [
    "### 라이브러리 로딩"
   ]
  },
  {
   "cell_type": "code",
   "execution_count": 1,
   "metadata": {
    "id": "wY-LJviYFP1w"
   },
   "outputs": [],
   "source": [
    "'''\n",
    "라이브러리들을 불러오자.\n",
    "'''\n",
    "import numpy as np\n",
    "import pandas as pd\n",
    "import matplotlib.pyplot as plt\n",
    "\n",
    "import random as rd\n",
    "from sklearn.metrics import accuracy_score\n",
    "\n",
    "import tensorflow as tf\n",
    "from tensorflow import keras"
   ]
  },
  {
   "cell_type": "code",
   "execution_count": 2,
   "metadata": {
    "id": "N3TWkoiOFRlV"
   },
   "outputs": [],
   "source": [
    "(train_x, train_y), (test_x, test_y) = keras.datasets.mnist.load_data()"
   ]
  },
  {
   "cell_type": "code",
   "execution_count": 3,
   "metadata": {
    "id": "8KNvSXY8FNWW"
   },
   "outputs": [
    {
     "name": "stdout",
     "output_type": "stream",
     "text": [
      "(60000, 28, 28) (60000,) (10000, 28, 28) (10000,)\n"
     ]
    }
   ],
   "source": [
    "print(train_x.shape, train_y.shape, test_x.shape, test_y.shape)"
   ]
  },
  {
   "cell_type": "code",
   "execution_count": 6,
   "metadata": {
    "id": "BAd66i9TTRkG"
   },
   "outputs": [
    {
     "name": "stdout",
     "output_type": "stream",
     "text": [
      "id = 1555\n",
      "다음 그림은 숫자 1 입니다.\n"
     ]
    },
    {
     "data": {
      "image/png": "[encoded data removed]",
      "text/plain": [
       "<Figure size 640x480 with 1 Axes>"
      ]
     },
     "metadata": {},
     "output_type": "display_data"
    }
   ],
   "source": [
    "'''\n",
    "Ctrl+Enter를 이용하여\n",
    "반복 실행 해보자!\n",
    "'''\n",
    "\n",
    "id = rd.randrange(0, 10000)\n",
    "\n",
    "print(f'id = {id}')\n",
    "print(f'다음 그림은 숫자 {test_y[id]} 입니다.')\n",
    "plt.imshow(test_x[id])\n",
    "plt.show()"
   ]
  },
  {
   "cell_type": "markdown",
   "metadata": {
    "id": "nxjV4ytsM0Rq"
   },
   "source": [
    "### Convolutional Layer를 사용하기 위한 reshape!\n",
    "\n",
    "- **채널이 추가되어야 한다**"
   ]
  },
  {
   "cell_type": "code",
   "execution_count": 7,
   "metadata": {
    "id": "Yndo0Z3BaCVi"
   },
   "outputs": [
    {
     "data": {
      "text/plain": [
       "((60000, 28, 28), (10000, 28, 28))"
      ]
     },
     "execution_count": 7,
     "metadata": {},
     "output_type": "execute_result"
    }
   ],
   "source": [
    "train_x.shape, test_x.shape"
   ]
  },
  {
   "cell_type": "code",
   "execution_count": 8,
   "metadata": {
    "id": "vEJrcLBMaQuj"
   },
   "outputs": [
    {
     "name": "stdout",
     "output_type": "stream",
     "text": [
      "28 28\n"
     ]
    }
   ],
   "source": [
    "_, h, w = train_x.shape\n",
    "\n",
    "print(h, w)"
   ]
  },
  {
   "cell_type": "code",
   "execution_count": 9,
   "metadata": {
    "id": "99f0aagKM5Zl"
   },
   "outputs": [
    {
     "name": "stdout",
     "output_type": "stream",
     "text": [
      "(60000, 28, 28, 1) (60000,) (10000, 28, 28, 1) (10000,)\n"
     ]
    }
   ],
   "source": [
    "train_x = train_x.reshape(train_x.shape[0], h, w, 1)\n",
    "test_x = test_x.reshape(test_x.shape[0], h, w, 1)\n",
    "\n",
    "print(train_x.shape, train_y.shape, test_x.shape, test_y.shape)"
   ]
  },
  {
   "cell_type": "markdown",
   "metadata": {
    "id": "viSln5pqGc0G"
   },
   "source": [
    "* 이미지가 0 ~ 1 사이 값을 갖도록 스케일 조정!"
   ]
  },
  {
   "cell_type": "code",
   "execution_count": 10,
   "metadata": {
    "id": "wDay4MrZGkNl"
   },
   "outputs": [
    {
     "name": "stdout",
     "output_type": "stream",
     "text": [
      "max : 255 , min : 0\n"
     ]
    }
   ],
   "source": [
    "print(f'max : {train_x.max()} , min : {train_x.min()}')"
   ]
  },
  {
   "cell_type": "code",
   "execution_count": 11,
   "metadata": {
    "id": "DPFeq7FvGkyI"
   },
   "outputs": [],
   "source": [
    "max_num = train_x.max()\n",
    "\n",
    "train_x = train_x/max_num\n",
    "test_x = test_x/max_num"
   ]
  },
  {
   "cell_type": "code",
   "execution_count": 12,
   "metadata": {
    "id": "e_lnNzI3QuC7"
   },
   "outputs": [
    {
     "name": "stdout",
     "output_type": "stream",
     "text": [
      "max : 1.0 , min : 0.0\n"
     ]
    }
   ],
   "source": [
    "print(f'max : {train_x.max()} , min : {train_x.min()}')"
   ]
  },
  {
   "cell_type": "markdown",
   "metadata": {
    "id": "SzNYHB8aGmIy"
   },
   "source": [
    "## Sequential API로 모델링\n",
    "\n",
    "CNN에 관한 것만 추가가 된다.\n",
    "[여기](https://keras.io/layers/convolutional/)를 적극적으로 참고하자"
   ]
  },
  {
   "cell_type": "code",
   "execution_count": 13,
   "metadata": {
    "id": "et_J7Xop0nL3"
   },
   "outputs": [
    {
     "data": {
      "text/plain": [
       "((60000, 28, 28, 1), (60000,))"
      ]
     },
     "execution_count": 13,
     "metadata": {},
     "output_type": "execute_result"
    }
   ],
   "source": [
    "train_x.shape, train_y.shape"
   ]
  },
  {
   "cell_type": "code",
   "execution_count": 14,
   "metadata": {
    "id": "LcUmaIH6Q0TY"
   },
   "outputs": [],
   "source": [
    "# 라이브러리 불러오기\n",
    "import tensorflow as tf\n",
    "from tensorflow import keras\n",
    "\n",
    "from tensorflow.keras.layers import Input, Dense, Conv2D, MaxPool2D, Flatten"
   ]
  },
  {
   "cell_type": "code",
   "execution_count": 15,
   "metadata": {
    "id": "Zt3DEJ6fHDGo"
   },
   "outputs": [
    {
     "name": "stdout",
     "output_type": "stream",
     "text": [
      "Model: \"sequential\"\n",
      "_________________________________________________________________\n",
      " Layer (type)                Output Shape              Param #   \n",
      "=================================================================\n",
      " conv2d (Conv2D)             (None, 28, 28, 64)        640       \n",
      "                                                                 \n",
      " max_pooling2d (MaxPooling2D  (None, 14, 14, 64)       0         \n",
      " )                                                               \n",
      "                                                                 \n",
      " flatten (Flatten)           (None, 12544)             0         \n",
      "                                                                 \n",
      " dense (Dense)               (None, 10)                125450    \n",
      "                                                                 \n",
      "=================================================================\n",
      "Total params: 126,090\n",
      "Trainable params: 126,090\n",
      "Non-trainable params: 0\n",
      "_________________________________________________________________\n"
     ]
    }
   ],
   "source": [
    "## Sequential API\n",
    "# 1번. 세션 클리어\n",
    "keras.backend.clear_session()\n",
    "\n",
    "# 2번. 모델 발판 생성\n",
    "model = keras.models.Sequential()\n",
    "\n",
    "# 3번. 레이어 조립\n",
    "model.add( Input(shape=(28,28,1)) )\n",
    "\n",
    "model.add( Conv2D(filters=64,              # Conv2D를 통해 제작하려는 Feature map의 수\n",
    "                  kernel_size=(3,3),       # filter size\n",
    "                  strides=(1,1),           # filter가 얼마나 촘촘히 훑을 것인가 (sliding window)\n",
    "                  padding='same',          # filter가 훑기 전에 상하좌우로 픽셀을 덧붙임\n",
    "                  activation='relu') )     # activation 주의!!!\n",
    "\n",
    "model.add( MaxPool2D(pool_size=(2,2)) )    # pooling filter 사이즈\n",
    "\n",
    "model.add( Flatten() )\n",
    "model.add( Dense(10, activation='softmax') )\n",
    "\n",
    "# 4번. 컴파일\n",
    "model.compile(loss=keras.losses.sparse_categorical_crossentropy, metrics=['accuracy'],\n",
    "              optimizer='adam')\n",
    "\n",
    "model.summary()"
   ]
  },
  {
   "cell_type": "code",
   "execution_count": 16,
   "metadata": {
    "id": "_GjVgLKP2Xpo"
   },
   "outputs": [],
   "source": [
    "from tensorflow.keras.callbacks import EarlyStopping"
   ]
  },
  {
   "cell_type": "code",
   "execution_count": 17,
   "metadata": {
    "id": "6HfqSv2b2arW"
   },
   "outputs": [],
   "source": [
    "es = EarlyStopping(monitor='val_loss',        # 관측 대상\n",
    "                   min_delta=0,               # 임계값\n",
    "                   patience=5,                # 성능이 개선되지 않을 때, 얼마나 더 지켜볼래?\n",
    "                   verbose=1,                 # 어디서 early stopping이 되었니?\n",
    "                   restore_best_weights=True  # 최적의 가중치를 가진 epochs 시점으로 돌려줘\n",
    "                  )"
   ]
  },
  {
   "cell_type": "code",
   "execution_count": 19,
   "metadata": {
    "id": "knZfBr3OPjap"
   },
   "outputs": [
    {
     "name": "stdout",
     "output_type": "stream",
     "text": [
      "Epoch 1/10\n",
      "1500/1500 [==============================] - 26s 17ms/step - loss: 0.0855 - accuracy: 0.9752 - val_loss: 0.0738 - val_accuracy: 0.9784\n",
      "Epoch 2/10\n",
      "1500/1500 [==============================] - 29s 19ms/step - loss: 0.0599 - accuracy: 0.9825 - val_loss: 0.0733 - val_accuracy: 0.9774\n",
      "Epoch 3/10\n",
      "1500/1500 [==============================] - 31s 21ms/step - loss: 0.0487 - accuracy: 0.9855 - val_loss: 0.0631 - val_accuracy: 0.9815\n",
      "Epoch 4/10\n",
      "1500/1500 [==============================] - 33s 22ms/step - loss: 0.0404 - accuracy: 0.9875 - val_loss: 0.0626 - val_accuracy: 0.9818\n",
      "Epoch 5/10\n",
      "1500/1500 [==============================] - 30s 20ms/step - loss: 0.0311 - accuracy: 0.9903 - val_loss: 0.0634 - val_accuracy: 0.9820\n",
      "Epoch 6/10\n",
      "1500/1500 [==============================] - 27s 18ms/step - loss: 0.0260 - accuracy: 0.9915 - val_loss: 0.0682 - val_accuracy: 0.9806\n",
      "Epoch 7/10\n",
      "1500/1500 [==============================] - 28s 18ms/step - loss: 0.0203 - accuracy: 0.9939 - val_loss: 0.0654 - val_accuracy: 0.9817\n",
      "Epoch 8/10\n",
      "1500/1500 [==============================] - 27s 18ms/step - loss: 0.0178 - accuracy: 0.9945 - val_loss: 0.0677 - val_accuracy: 0.9825\n",
      "Epoch 9/10\n",
      "1497/1500 [============================>.] - ETA: 0s - loss: 0.0133 - accuracy: 0.9960Restoring model weights from the end of the best epoch: 4.\n",
      "1500/1500 [==============================] - 26s 17ms/step - loss: 0.0133 - accuracy: 0.9960 - val_loss: 0.0674 - val_accuracy: 0.9822\n",
      "Epoch 9: early stopping\n"
     ]
    }
   ],
   "source": [
    "# 데이터를 넣어서 학습시키자!\n",
    "hist = model.fit(train_x, train_y, validation_split=0.2, epochs=10, verbose=1,\n",
    "                 callbacks=[es])"
   ]
  },
  {
   "cell_type": "code",
   "execution_count": 20,
   "metadata": {
    "id": "FJMYuSnQPoqt"
   },
   "outputs": [
    {
     "name": "stdout",
     "output_type": "stream",
     "text": [
      "100/100 [==============================] - 1s 13ms/step - loss: 0.0529 - accuracy: 0.9834\n",
      "Test Loss : 0.052910 |  Test Accuracy : 98.34%\n"
     ]
    }
   ],
   "source": [
    "performance_test = model.evaluate(test_x, test_y, batch_size=100)\n",
    "\n",
    "print(f'Test Loss : {performance_test[0]:.6f} |  Test Accuracy : {performance_test[1]*100:.2f}%')"
   ]
  },
  {
   "cell_type": "code",
   "execution_count": 21,
   "metadata": {
    "id": "H5Ir4b-DQ3VG"
   },
   "outputs": [
    {
     "data": {
      "image/png": "[encoded data removed]",
      "text/plain": [
       "<Figure size 1000x500 with 1 Axes>"
      ]
     },
     "metadata": {},
     "output_type": "display_data"
    }
   ],
   "source": [
    "if not isinstance(hist, dict) :\n",
    "    history = hist.history\n",
    "\n",
    "plt.figure(figsize=(10, 5))\n",
    "plt.plot(history['accuracy'])\n",
    "plt.plot(history['val_accuracy'])\n",
    "plt.title('Accuracy : Training vs Validation')\n",
    "plt.ylabel('Accuracy')\n",
    "plt.xlabel('Epoch')\n",
    "plt.legend(['Training', 'Validation'], loc=0)\n",
    "plt.show()"
   ]
  },
  {
   "cell_type": "code",
   "execution_count": 22,
   "metadata": {
    "id": "mfiGA-DvQ42n"
   },
   "outputs": [
    {
     "data": {
      "image/png": "[encoded data removed]",
      "text/plain": [
       "<Figure size 1000x500 with 1 Axes>"
      ]
     },
     "metadata": {},
     "output_type": "display_data"
    }
   ],
   "source": [
    "if not isinstance(hist, dict) :\n",
    "    history = hist.history\n",
    "\n",
    "plt.figure(figsize=(10, 5))\n",
    "plt.plot(history['loss'])\n",
    "plt.plot(history['val_loss'])\n",
    "plt.title('Loss : Training vs Validation')\n",
    "plt.ylabel('Loss')\n",
    "plt.xlabel('Epoch')\n",
    "plt.legend(['Training', 'Validation'], loc=0)\n",
    "plt.show()"
   ]
  },
  {
   "cell_type": "markdown",
   "metadata": {
    "id": "IwBEu_E8HFzv"
   },
   "source": [
    "* 예측값 생성"
   ]
  },
  {
   "cell_type": "code",
   "execution_count": 23,
   "metadata": {
    "id": "ErRidyIDTAXd"
   },
   "outputs": [
    {
     "name": "stdout",
     "output_type": "stream",
     "text": [
      "1875/1875 [==============================] - 12s 7ms/step\n",
      "313/313 [==============================] - 2s 7ms/step\n",
      "CNN\n",
      "트레이닝 정확도 : 99.02%\n",
      "테스트 정확도 : 98.34%\n"
     ]
    }
   ],
   "source": [
    "pred_train = model.predict(train_x)\n",
    "pred_test = model.predict(test_x)\n",
    "\n",
    "single_pred_train = pred_train.argmax(axis=1)\n",
    "single_pred_test = pred_test.argmax(axis=1)\n",
    "\n",
    "logi_train_accuracy = accuracy_score(train_y, single_pred_train)\n",
    "logi_test_accuracy = accuracy_score(test_y, single_pred_test)\n",
    "\n",
    "print('CNN')\n",
    "print(f'트레이닝 정확도 : {logi_train_accuracy*100:.2f}%' )\n",
    "print(f'테스트 정확도 : {logi_test_accuracy*100:.2f}%' )"
   ]
  },
  {
   "cell_type": "markdown",
   "metadata": {
    "id": "5Kgp7c72rsRw"
   },
   "source": [
    "## 숫자 이미지 시각화"
   ]
  },
  {
   "cell_type": "code",
   "execution_count": 24,
   "metadata": {
    "id": "L3U38rGQTDx_"
   },
   "outputs": [
    {
     "name": "stdout",
     "output_type": "stream",
     "text": [
      "id = 9082\n",
      "다음 그림은 숫자 2 입니다.\n",
      "모델의 예측 : 2\n",
      "모델의 카테고리별 확률 : [ 0.  0. 99.  0.  0.  0.  0.  0.  0.  0.]\n",
      "정답입니다\n"
     ]
    },
    {
     "data": {
      "image/png": "[encoded data removed]",
      "text/plain": [
       "<Figure size 640x480 with 1 Axes>"
      ]
     },
     "metadata": {},
     "output_type": "display_data"
    }
   ],
   "source": [
    "'''\n",
    "성능 확인을 위해\n",
    "Ctrl+Enter를 이용하여\n",
    "반복 실행 해보자!\n",
    "'''\n",
    "\n",
    "id = rd.randrange(0,10000)\n",
    "\n",
    "print(f'id = {id}')\n",
    "print(f'다음 그림은 숫자 {test_y[id]} 입니다.')\n",
    "print(f'모델의 예측 : {single_pred_test[id]}')\n",
    "print(f'모델의 카테고리별 확률 : {np.floor(pred_test[id]*100)}')\n",
    "\n",
    "if test_y[id] == single_pred_test[id] :\n",
    "    print('정답입니다')\n",
    "else : \n",
    "    print('틀렸어요')\n",
    "    \n",
    "plt.imshow(test_x[id].reshape([28,-1]))\n",
    "plt.show()"
   ]
  },
  {
   "cell_type": "code",
   "execution_count": 27,
   "metadata": {
    "id": "3RDJuEcbTAeg"
   },
   "outputs": [
    {
     "name": "stdout",
     "output_type": "stream",
     "text": [
      "id = 3838\n",
      "다음 그림은 숫자 7 입니다.\n",
      "모델의 예측 : 8\n",
      "모델의 카테고리별 확률 : [ 0.  0.  0.  0.  1.  0.  0.  8. 88.  0.]\n",
      "틀렸어요\n"
     ]
    },
    {
     "data": {
      "image/png": "[encoded data removed]",
      "text/plain": [
       "<Figure size 640x480 with 1 Axes>"
      ]
     },
     "metadata": {},
     "output_type": "display_data"
    }
   ],
   "source": [
    "'''\n",
    "틀린 것만 관찰해보자!\n",
    "\n",
    "Ctrl+Enter를 이용하여\n",
    "반복 실행 해보자!\n",
    "'''\n",
    "\n",
    "true_false = (test_y==single_pred_test)\n",
    "f_id = np.where(true_false==False)[0]\n",
    "f_n = len(f_id)\n",
    "\n",
    "id = f_id[rd.randrange(0,f_n)]\n",
    "\n",
    "print(f'id = {id}')\n",
    "print(f'다음 그림은 숫자 {test_y[id]} 입니다.')\n",
    "print(f'모델의 예측 : {single_pred_test[id]}')\n",
    "print(f'모델의 카테고리별 확률 : {np.floor(pred_test[id]*100)}')\n",
    "\n",
    "if test_y[id] == single_pred_test[id] :\n",
    "    print('정답입니다')\n",
    "else : \n",
    "    print('틀렸어요')\n",
    "    \n",
    "plt.imshow(test_x[id].reshape([28,-1]))\n",
    "plt.show()"
   ]
  },
  {
   "cell_type": "code",
   "execution_count": null,
   "metadata": {
    "id": "5hjk-EcuTAlE"
   },
   "outputs": [],
   "source": []
  }
 ],
 "metadata": {
  "accelerator": "GPU",
  "colab": {
   "provenance": [
    {
     "file_id": "1AsGEiyaA8e2OVY8UHMHPvBKDwx0Z-iuu",
     "timestamp": 1660284887835
    }
   ]
  },
  "gpuClass": "standard",
  "kernelspec": {
   "display_name": "Python 3 (ipykernel)",
   "language": "python",
   "name": "python3"
  },
  "language_info": {
   "codemirror_mode": {
    "name": "ipython",
    "version": 3
   },
   "file_extension": ".py",
   "mimetype": "text/x-python",
   "name": "python",
   "nbconvert_exporter": "python",
   "pygments_lexer": "ipython3",
   "version": "3.9.13"
  }
 },
 "nbformat": 4,
 "nbformat_minor": 4
}
